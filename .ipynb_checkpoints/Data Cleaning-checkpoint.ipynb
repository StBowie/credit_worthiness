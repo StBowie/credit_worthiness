{
 "cells": [
  {
   "cell_type": "markdown",
   "metadata": {},
   "source": [
    "# Clean data file"
   ]
  },
  {
   "cell_type": "markdown",
   "metadata": {},
   "source": [
    "Import libraries"
   ]
  },
  {
   "cell_type": "code",
   "execution_count": 1,
   "metadata": {
    "collapsed": false
   },
   "outputs": [],
   "source": [
    "import pandas as pd\n",
    "import numpy as np"
   ]
  },
  {
   "cell_type": "markdown",
   "metadata": {},
   "source": [
    "Read pickle to dataframe"
   ]
  },
  {
   "cell_type": "code",
   "execution_count": 2,
   "metadata": {
    "collapsed": false
   },
   "outputs": [],
   "source": [
    "cols_to_keep = ['c_AutoHistory','EmploymentLength','c_ProofOfIncome','AnnualIncome','LengthatAddress',\n",
    "                    'ACV','TradeRoll','Absorption','Brand','DateSold','c_AmountFinanced','c_PaymentAmount',\n",
    "                    'Callback','LTV','c_GrossProfit','c_CashDown','Irregular',\n",
    "                    'VDC','c_PurchaseType','credit_score','repo_in_12']\n",
    "df = pd.read_pickle('Z:\\PMO\\Stephen Bowie\\Projects\\Underwriting\\Model\\Split Model Data')\n",
    "df = df.loc[:,cols_to_keep]\n",
    "df = df.rename(columns = {'c_AutoHistory': 'auto_hist',\n",
    "                          'EmploymentLength': 'emp_length',\n",
    "                          'LengthatAddress': 'address_length',\n",
    "                          'c_ProofOfIncome': 'poi',\n",
    "                          'AnnualIncome': 'annual_inc',\n",
    "                          'ACV': 'acv',\n",
    "                          'TradeRoll': 'trade_roll',\n",
    "                          'Absorption' : 'pack',\n",
    "                          'Brand': 'brand',\n",
    "                          'DateSold': 'date_sold',\n",
    "                          'Callback': 'call',\n",
    "                          'LTV': 'ltv',\n",
    "                          'c_GrossProfit': 'gross_profit',\n",
    "                          'c_CashDown': 'down',\n",
    "                          'Irregular': 'def_down',\n",
    "                          'VDC': 'vdc',\n",
    "                          'c_PurchaseType': 'purch_type',\n",
    "                          'AnnualIncome': 'annual_inc',\n",
    "                         'c_AmountFinanced': 'amt_fin',\n",
    "                         'c_PaymentAmount': 'mo_pmt'})"
   ]
  },
  {
   "cell_type": "markdown",
   "metadata": {},
   "source": [
    "Record helper methods"
   ]
  },
  {
   "cell_type": "code",
   "execution_count": 3,
   "metadata": {
    "collapsed": false
   },
   "outputs": [],
   "source": [
    "def lowercase(s):\n",
    "    return s.lower()\n",
    "\n",
    "def clean_call(s):\n",
    "    callbacks = {'burried': 'buried', 'condition $2000 any': 'c2000', 'condition $2000': 'c2000',\n",
    "             'condition $2000+': 'c2000', 'condition $2000-': 'c2000', 'condition $1500': 'c1500',\n",
    "             'declined $2001+': 'decline', 'purple': 'high', 'yellow': 'high',\n",
    "             'orange': 'high', 'red': 'high', 'gold': 'high', 'condition $3000': 'decline'}\n",
    "    if s in callbacks:\n",
    "        return callbacks[s]\n",
    "    else:\n",
    "        return s"
   ]
  },
  {
   "cell_type": "markdown",
   "metadata": {},
   "source": [
    "Clean and change data type of callback field"
   ]
  },
  {
   "cell_type": "code",
   "execution_count": 4,
   "metadata": {
    "collapsed": false
   },
   "outputs": [],
   "source": [
    "df['call'] = df['call'].map(lowercase,na_action='ignore')\n",
    "df['call'] = df['call'].map(clean_call)\n",
    "call_order = ['decline', 'c2000', 'c1500', 'green', 'blue', 'silver', 'high']\n",
    "df['call'] = df['call'].astype('category', ordered=True,categories=call_order)"
   ]
  },
  {
   "cell_type": "code",
   "execution_count": 5,
   "metadata": {
    "collapsed": false
   },
   "outputs": [
    {
     "data": {
      "text/plain": [
       "c1500      1617\n",
       "c2000      1432\n",
       "green      1139\n",
       "blue        947\n",
       "silver      843\n",
       "high        714\n",
       "decline     453\n",
       "Name: call, dtype: int64"
      ]
     },
     "execution_count": 5,
     "metadata": {},
     "output_type": "execute_result"
    }
   ],
   "source": [
    "df['call'].value_counts()"
   ]
  },
  {
   "cell_type": "markdown",
   "metadata": {},
   "source": [
    "convert pack to float"
   ]
  },
  {
   "cell_type": "code",
   "execution_count": 6,
   "metadata": {
    "collapsed": true
   },
   "outputs": [],
   "source": [
    "df['pack'] = df['pack'] * 1.0"
   ]
  },
  {
   "cell_type": "markdown",
   "metadata": {},
   "source": [
    "Convert proof of income to binary"
   ]
  },
  {
   "cell_type": "code",
   "execution_count": 7,
   "metadata": {
    "collapsed": true
   },
   "outputs": [],
   "source": [
    "df['poi'] = df['poi'].map(lowercase,na_action='ignore')\n",
    "df['poi'] = df['poi'].map(lambda x: 1 if x == 'y' else 0)"
   ]
  },
  {
   "cell_type": "markdown",
   "metadata": {},
   "source": [
    "convert brand to categorical"
   ]
  },
  {
   "cell_type": "code",
   "execution_count": 8,
   "metadata": {
    "collapsed": false
   },
   "outputs": [],
   "source": [
    "df['brand'] = df['brand'].astype('category')"
   ]
  },
  {
   "cell_type": "markdown",
   "metadata": {},
   "source": [
    "Change data type of date sold field"
   ]
  },
  {
   "cell_type": "code",
   "execution_count": 9,
   "metadata": {
    "collapsed": true
   },
   "outputs": [],
   "source": [
    "df['date_sold'] = pd.to_datetime(df['date_sold'])"
   ]
  },
  {
   "cell_type": "markdown",
   "metadata": {},
   "source": [
    "Clean purchase type"
   ]
  },
  {
   "cell_type": "code",
   "execution_count": 10,
   "metadata": {
    "collapsed": true
   },
   "outputs": [],
   "source": [
    "df['purch_type'] = df['purch_type'].map(lowercase, na_action='ignore')\n",
    "purchase_types = ['auction', 'simulcast', 'repo', 'trade']\n",
    "df['purch_type'] = df['purch_type'].astype('category', categories=purchase_types)"
   ]
  },
  {
   "cell_type": "markdown",
   "metadata": {},
   "source": [
    "Clean credit score (need to remove values outside acceptable range)"
   ]
  },
  {
   "cell_type": "code",
   "execution_count": 11,
   "metadata": {
    "collapsed": false
   },
   "outputs": [],
   "source": [
    "df['credit_score'] = df['credit_score'].str.replace('\\\\','')\n",
    "df['credit_score'] = pd.to_numeric(df['credit_score'], errors='coerce')\n",
    "df.loc[df.credit_score > 850, 'credit_score'] = np.nan"
   ]
  },
  {
   "cell_type": "markdown",
   "metadata": {},
   "source": [
    "Clean auto history"
   ]
  },
  {
   "cell_type": "code",
   "execution_count": 12,
   "metadata": {
    "collapsed": false
   },
   "outputs": [],
   "source": [
    "df['auto_hist'] = df['auto_hist'].map(lowercase, na_action='ignore')\n",
    "df['auto_hist'] = df['auto_hist'].replace(np.nan, 'no history', regex=True)\n",
    "auto_hist_types = ['no history', 'pay on time', 'late pay', 'repo']\n",
    "df['auto_hist'] = df['auto_hist'].astype('category', categories=auto_hist_types,ordered=True)"
   ]
  },
  {
   "cell_type": "markdown",
   "metadata": {},
   "source": [
    "Save dataframe to pickle"
   ]
  },
  {
   "cell_type": "code",
   "execution_count": 13,
   "metadata": {
    "collapsed": false
   },
   "outputs": [],
   "source": [
    "df.to_pickle('Z:\\PMO\\Stephen Bowie\\Projects\\Underwriting\\Model\\Cleaned Model Data')"
   ]
  }
 ],
 "metadata": {
  "anaconda-cloud": {},
  "kernelspec": {
   "display_name": "Python [default]",
   "language": "python",
   "name": "python2"
  },
  "language_info": {
   "codemirror_mode": {
    "name": "ipython",
    "version": 2
   },
   "file_extension": ".py",
   "mimetype": "text/x-python",
   "name": "python",
   "nbconvert_exporter": "python",
   "pygments_lexer": "ipython2",
   "version": "2.7.12"
  }
 },
 "nbformat": 4,
 "nbformat_minor": 1
}
