{
 "cells": [
  {
   "cell_type": "markdown",
   "metadata": {},
   "source": [
    "# Credit worthiness model"
   ]
  },
  {
   "cell_type": "markdown",
   "metadata": {},
   "source": [
    "Import libraries"
   ]
  },
  {
   "cell_type": "code",
   "execution_count": 1,
   "metadata": {
    "collapsed": true
   },
   "outputs": [],
   "source": [
    "from __future__ import division\n",
    "import pandas as pd\n",
    "import numpy as np\n",
    "from sklearn.linear_model import LogisticRegression\n",
    "from patsy import dmatrices\n",
    "from sklearn import metrics"
   ]
  },
  {
   "cell_type": "markdown",
   "metadata": {},
   "source": [
    "Load pickle and add intercept"
   ]
  },
  {
   "cell_type": "code",
   "execution_count": 2,
   "metadata": {
    "collapsed": false
   },
   "outputs": [],
   "source": [
    "df = pd.read_pickle('Z:\\PMO\\Stephen Bowie\\Projects\\Underwriting\\Model\\Cleaned Model Data')"
   ]
  },
  {
   "cell_type": "markdown",
   "metadata": {},
   "source": [
    "Create dummy columns and intercept"
   ]
  },
  {
   "cell_type": "code",
   "execution_count": 3,
   "metadata": {
    "collapsed": false
   },
   "outputs": [
    {
     "data": {
      "text/plain": [
       "Index([u'Intercept', u'brand[T.UP]', u'poi[T.y]', u'call[T.c2000]',\n",
       "       u'call[T.c1500]', u'call[T.green]', u'call[T.blue]', u'call[T.silver]',\n",
       "       u'call[T.high]', u'auto_hist[T.pay on time]', u'auto_hist[T.late pay]',\n",
       "       u'auto_hist[T.repo]', u'purch_type[T.simulcast]', u'purch_type[T.repo]',\n",
       "       u'purch_type[T.trade]', u'mo_pmt', u'amt_fin', u'emp_length',\n",
       "       u'annual_inc', u'ltv', u'down', u'def_down', u'acv', u'vdc',\n",
       "       u'trade_roll', u'pack', u'gross_profit', u'credit_score'],\n",
       "      dtype='object')"
      ]
     },
     "execution_count": 3,
     "metadata": {},
     "output_type": "execute_result"
    }
   ],
   "source": [
    "y, X = dmatrices('repo_in_12 ~ brand + poi + mo_pmt + amt_fin + call + auto_hist + emp_length + annual_inc + ltv + down + def_down + acv + down + vdc + trade_roll + pack + gross_profit + purch_type + credit_score',\n",
    "                 df, return_type='dataframe')\n",
    "X.columns"
   ]
  },
  {
   "cell_type": "code",
   "execution_count": 4,
   "metadata": {
    "collapsed": false
   },
   "outputs": [],
   "source": [
    "X = X.rename(columns = {'auto_hist[T.pay on time]': 'auto_pay',\n",
    "                        'auto_hist[T.late pay]': 'auto_late',\n",
    "                        'auto_hist[T.repo]': 'auto_repo',\n",
    "                       'purch_type[T.simulcast]': 'pt_simul',\n",
    "                       'purch_type[T.repo]': 'pt_repo',\n",
    "                       'purch_type[T.trade]': 'pt_trade',\n",
    "                       'call[T.c2000]': 'call_c2000',\n",
    "                       'call[T.c1500]': 'call_c1500',\n",
    "                       'call[T.green]': 'call_green',\n",
    "                       'call[T.blue]': 'call_blue',\n",
    "                       'call[T.silver]': 'call_silver',\n",
    "                       'call[T.high]': 'call_high',\n",
    "                       'brand[T.UP]': 'brand_up',\n",
    "                       'poi[T.y]': 'has_poi',})"
   ]
  },
  {
   "cell_type": "markdown",
   "metadata": {},
   "source": [
    "Set variables for logistic regression"
   ]
  },
  {
   "cell_type": "code",
   "execution_count": 5,
   "metadata": {
    "collapsed": false
   },
   "outputs": [
    {
     "data": {
      "text/html": [
       "<div>\n",
       "<table border=\"1\" class=\"dataframe\">\n",
       "  <thead>\n",
       "    <tr style=\"text-align: right;\">\n",
       "      <th></th>\n",
       "      <th>Intercept</th>\n",
       "      <th>brand_up</th>\n",
       "      <th>has_poi</th>\n",
       "      <th>call_c2000</th>\n",
       "      <th>call_c1500</th>\n",
       "      <th>call_green</th>\n",
       "      <th>call_blue</th>\n",
       "      <th>call_silver</th>\n",
       "      <th>call_high</th>\n",
       "      <th>auto_pay</th>\n",
       "      <th>...</th>\n",
       "      <th>annual_inc</th>\n",
       "      <th>ltv</th>\n",
       "      <th>down</th>\n",
       "      <th>def_down</th>\n",
       "      <th>acv</th>\n",
       "      <th>vdc</th>\n",
       "      <th>trade_roll</th>\n",
       "      <th>pack</th>\n",
       "      <th>gross_profit</th>\n",
       "      <th>credit_score</th>\n",
       "    </tr>\n",
       "  </thead>\n",
       "  <tbody>\n",
       "    <tr>\n",
       "      <th>count</th>\n",
       "      <td>4262.0</td>\n",
       "      <td>4262.000000</td>\n",
       "      <td>4262.000000</td>\n",
       "      <td>4262.000000</td>\n",
       "      <td>4262.000000</td>\n",
       "      <td>4262.000000</td>\n",
       "      <td>4262.000000</td>\n",
       "      <td>4262.00000</td>\n",
       "      <td>4262.000000</td>\n",
       "      <td>4262.000000</td>\n",
       "      <td>...</td>\n",
       "      <td>4262.000000</td>\n",
       "      <td>4262.000000</td>\n",
       "      <td>4262.000000</td>\n",
       "      <td>4262.000000</td>\n",
       "      <td>4262.000000</td>\n",
       "      <td>4262.000000</td>\n",
       "      <td>4262.000000</td>\n",
       "      <td>4262.000000</td>\n",
       "      <td>4262.000000</td>\n",
       "      <td>4262.000000</td>\n",
       "    </tr>\n",
       "    <tr>\n",
       "      <th>mean</th>\n",
       "      <td>1.0</td>\n",
       "      <td>0.149460</td>\n",
       "      <td>0.448146</td>\n",
       "      <td>0.176678</td>\n",
       "      <td>0.201549</td>\n",
       "      <td>0.129517</td>\n",
       "      <td>0.133975</td>\n",
       "      <td>0.15298</td>\n",
       "      <td>0.130221</td>\n",
       "      <td>0.197794</td>\n",
       "      <td>...</td>\n",
       "      <td>27712.890906</td>\n",
       "      <td>1.534538</td>\n",
       "      <td>897.890819</td>\n",
       "      <td>303.936469</td>\n",
       "      <td>10702.545753</td>\n",
       "      <td>1559.208588</td>\n",
       "      <td>765.847717</td>\n",
       "      <td>3723.967621</td>\n",
       "      <td>2780.822841</td>\n",
       "      <td>570.018067</td>\n",
       "    </tr>\n",
       "    <tr>\n",
       "      <th>std</th>\n",
       "      <td>0.0</td>\n",
       "      <td>0.356583</td>\n",
       "      <td>0.497362</td>\n",
       "      <td>0.381440</td>\n",
       "      <td>0.401204</td>\n",
       "      <td>0.335810</td>\n",
       "      <td>0.340665</td>\n",
       "      <td>0.36001</td>\n",
       "      <td>0.336585</td>\n",
       "      <td>0.398383</td>\n",
       "      <td>...</td>\n",
       "      <td>14860.760635</td>\n",
       "      <td>0.219125</td>\n",
       "      <td>910.311450</td>\n",
       "      <td>467.485361</td>\n",
       "      <td>3117.865491</td>\n",
       "      <td>970.670188</td>\n",
       "      <td>1793.468033</td>\n",
       "      <td>802.500845</td>\n",
       "      <td>1325.258959</td>\n",
       "      <td>74.711655</td>\n",
       "    </tr>\n",
       "    <tr>\n",
       "      <th>min</th>\n",
       "      <td>1.0</td>\n",
       "      <td>0.000000</td>\n",
       "      <td>0.000000</td>\n",
       "      <td>0.000000</td>\n",
       "      <td>0.000000</td>\n",
       "      <td>0.000000</td>\n",
       "      <td>0.000000</td>\n",
       "      <td>0.00000</td>\n",
       "      <td>0.000000</td>\n",
       "      <td>0.000000</td>\n",
       "      <td>...</td>\n",
       "      <td>0.000000</td>\n",
       "      <td>0.135147</td>\n",
       "      <td>0.000000</td>\n",
       "      <td>0.000000</td>\n",
       "      <td>2195.000000</td>\n",
       "      <td>0.000000</td>\n",
       "      <td>-11500.000000</td>\n",
       "      <td>590.000000</td>\n",
       "      <td>-6326.570000</td>\n",
       "      <td>59.000000</td>\n",
       "    </tr>\n",
       "    <tr>\n",
       "      <th>25%</th>\n",
       "      <td>1.0</td>\n",
       "      <td>0.000000</td>\n",
       "      <td>0.000000</td>\n",
       "      <td>0.000000</td>\n",
       "      <td>0.000000</td>\n",
       "      <td>0.000000</td>\n",
       "      <td>0.000000</td>\n",
       "      <td>0.00000</td>\n",
       "      <td>0.000000</td>\n",
       "      <td>0.000000</td>\n",
       "      <td>...</td>\n",
       "      <td>19500.000000</td>\n",
       "      <td>1.406731</td>\n",
       "      <td>400.000000</td>\n",
       "      <td>0.000000</td>\n",
       "      <td>8895.000000</td>\n",
       "      <td>999.000000</td>\n",
       "      <td>0.000000</td>\n",
       "      <td>2950.000000</td>\n",
       "      <td>1869.270000</td>\n",
       "      <td>518.000000</td>\n",
       "    </tr>\n",
       "    <tr>\n",
       "      <th>50%</th>\n",
       "      <td>1.0</td>\n",
       "      <td>0.000000</td>\n",
       "      <td>0.000000</td>\n",
       "      <td>0.000000</td>\n",
       "      <td>0.000000</td>\n",
       "      <td>0.000000</td>\n",
       "      <td>0.000000</td>\n",
       "      <td>0.00000</td>\n",
       "      <td>0.000000</td>\n",
       "      <td>0.000000</td>\n",
       "      <td>...</td>\n",
       "      <td>24960.000000</td>\n",
       "      <td>1.551626</td>\n",
       "      <td>500.000000</td>\n",
       "      <td>200.000000</td>\n",
       "      <td>10495.000000</td>\n",
       "      <td>2299.000000</td>\n",
       "      <td>0.000000</td>\n",
       "      <td>4200.000000</td>\n",
       "      <td>3168.430000</td>\n",
       "      <td>565.000000</td>\n",
       "    </tr>\n",
       "    <tr>\n",
       "      <th>75%</th>\n",
       "      <td>1.0</td>\n",
       "      <td>0.000000</td>\n",
       "      <td>1.000000</td>\n",
       "      <td>0.000000</td>\n",
       "      <td>0.000000</td>\n",
       "      <td>0.000000</td>\n",
       "      <td>0.000000</td>\n",
       "      <td>0.00000</td>\n",
       "      <td>0.000000</td>\n",
       "      <td>0.000000</td>\n",
       "      <td>...</td>\n",
       "      <td>33280.000000</td>\n",
       "      <td>1.662876</td>\n",
       "      <td>1000.000000</td>\n",
       "      <td>500.000000</td>\n",
       "      <td>12495.000000</td>\n",
       "      <td>2299.000000</td>\n",
       "      <td>0.000000</td>\n",
       "      <td>4200.000000</td>\n",
       "      <td>3668.430000</td>\n",
       "      <td>618.000000</td>\n",
       "    </tr>\n",
       "    <tr>\n",
       "      <th>max</th>\n",
       "      <td>1.0</td>\n",
       "      <td>1.000000</td>\n",
       "      <td>1.000000</td>\n",
       "      <td>1.000000</td>\n",
       "      <td>1.000000</td>\n",
       "      <td>1.000000</td>\n",
       "      <td>1.000000</td>\n",
       "      <td>1.00000</td>\n",
       "      <td>1.000000</td>\n",
       "      <td>1.000000</td>\n",
       "      <td>...</td>\n",
       "      <td>221000.000000</td>\n",
       "      <td>2.728847</td>\n",
       "      <td>12900.000000</td>\n",
       "      <td>13182.140000</td>\n",
       "      <td>25595.000000</td>\n",
       "      <td>2299.000000</td>\n",
       "      <td>11168.470000</td>\n",
       "      <td>4200.000000</td>\n",
       "      <td>8469.270000</td>\n",
       "      <td>831.000000</td>\n",
       "    </tr>\n",
       "  </tbody>\n",
       "</table>\n",
       "<p>8 rows × 28 columns</p>\n",
       "</div>"
      ],
      "text/plain": [
       "       Intercept     brand_up      has_poi   call_c2000   call_c1500  \\\n",
       "count     4262.0  4262.000000  4262.000000  4262.000000  4262.000000   \n",
       "mean         1.0     0.149460     0.448146     0.176678     0.201549   \n",
       "std          0.0     0.356583     0.497362     0.381440     0.401204   \n",
       "min          1.0     0.000000     0.000000     0.000000     0.000000   \n",
       "25%          1.0     0.000000     0.000000     0.000000     0.000000   \n",
       "50%          1.0     0.000000     0.000000     0.000000     0.000000   \n",
       "75%          1.0     0.000000     1.000000     0.000000     0.000000   \n",
       "max          1.0     1.000000     1.000000     1.000000     1.000000   \n",
       "\n",
       "        call_green    call_blue  call_silver    call_high     auto_pay  \\\n",
       "count  4262.000000  4262.000000   4262.00000  4262.000000  4262.000000   \n",
       "mean      0.129517     0.133975      0.15298     0.130221     0.197794   \n",
       "std       0.335810     0.340665      0.36001     0.336585     0.398383   \n",
       "min       0.000000     0.000000      0.00000     0.000000     0.000000   \n",
       "25%       0.000000     0.000000      0.00000     0.000000     0.000000   \n",
       "50%       0.000000     0.000000      0.00000     0.000000     0.000000   \n",
       "75%       0.000000     0.000000      0.00000     0.000000     0.000000   \n",
       "max       1.000000     1.000000      1.00000     1.000000     1.000000   \n",
       "\n",
       "           ...          annual_inc          ltv          down      def_down  \\\n",
       "count      ...         4262.000000  4262.000000   4262.000000   4262.000000   \n",
       "mean       ...        27712.890906     1.534538    897.890819    303.936469   \n",
       "std        ...        14860.760635     0.219125    910.311450    467.485361   \n",
       "min        ...            0.000000     0.135147      0.000000      0.000000   \n",
       "25%        ...        19500.000000     1.406731    400.000000      0.000000   \n",
       "50%        ...        24960.000000     1.551626    500.000000    200.000000   \n",
       "75%        ...        33280.000000     1.662876   1000.000000    500.000000   \n",
       "max        ...       221000.000000     2.728847  12900.000000  13182.140000   \n",
       "\n",
       "                acv          vdc    trade_roll         pack  gross_profit  \\\n",
       "count   4262.000000  4262.000000   4262.000000  4262.000000   4262.000000   \n",
       "mean   10702.545753  1559.208588    765.847717  3723.967621   2780.822841   \n",
       "std     3117.865491   970.670188   1793.468033   802.500845   1325.258959   \n",
       "min     2195.000000     0.000000 -11500.000000   590.000000  -6326.570000   \n",
       "25%     8895.000000   999.000000      0.000000  2950.000000   1869.270000   \n",
       "50%    10495.000000  2299.000000      0.000000  4200.000000   3168.430000   \n",
       "75%    12495.000000  2299.000000      0.000000  4200.000000   3668.430000   \n",
       "max    25595.000000  2299.000000  11168.470000  4200.000000   8469.270000   \n",
       "\n",
       "       credit_score  \n",
       "count   4262.000000  \n",
       "mean     570.018067  \n",
       "std       74.711655  \n",
       "min       59.000000  \n",
       "25%      518.000000  \n",
       "50%      565.000000  \n",
       "75%      618.000000  \n",
       "max      831.000000  \n",
       "\n",
       "[8 rows x 28 columns]"
      ]
     },
     "execution_count": 5,
     "metadata": {},
     "output_type": "execute_result"
    }
   ],
   "source": [
    "X.describe()"
   ]
  },
  {
   "cell_type": "code",
   "execution_count": 6,
   "metadata": {
    "collapsed": false
   },
   "outputs": [],
   "source": [
    "y = np.ravel(y)"
   ]
  },
  {
   "cell_type": "markdown",
   "metadata": {},
   "source": [
    "Need to incorporate:\n",
    "- Explicitly handle missing values (in credit score): two separate models for credit score, ignore records with missing purchase type\n",
    "- Explicitly address/handle outliers (id outliers, model with, model without, compare performance)\n",
    "- Feature scaling (sklearn preprocessing module)\n",
    "- Feature evaluation/significance, colinearity test, and selection\n",
    "- Conditional features (e.g. proof of income should emphasize or add weight to annual income)\n",
    "- train/test split data\n",
    "- Pipeline?"
   ]
  },
  {
   "cell_type": "markdown",
   "metadata": {},
   "source": [
    "Logistic regression model"
   ]
  },
  {
   "cell_type": "code",
   "execution_count": 7,
   "metadata": {
    "collapsed": false
   },
   "outputs": [],
   "source": [
    "model = LogisticRegression()\n",
    "model = model.fit(X,y)"
   ]
  },
  {
   "cell_type": "code",
   "execution_count": 8,
   "metadata": {
    "collapsed": false
   },
   "outputs": [
    {
     "name": "stdout",
     "output_type": "stream",
     "text": [
      "error rate:  0.273815110277\n",
      "null error rate:  0.281792585641\n",
      "improvement:  0.00797747536368\n"
     ]
    }
   ],
   "source": [
    "#error rate\n",
    "error_rate = 1 - model.score(X,y)\n",
    "null_error_rate = y.mean()\n",
    "print 'error rate: ', error_rate\n",
    "print 'null error rate: ', null_error_rate\n",
    "print 'improvement: ', null_error_rate - error_rate"
   ]
  },
  {
   "cell_type": "code",
   "execution_count": 14,
   "metadata": {
    "collapsed": false
   },
   "outputs": [
    {
     "data": {
      "text/html": [
       "<div>\n",
       "<table border=\"1\" class=\"dataframe\">\n",
       "  <thead>\n",
       "    <tr style=\"text-align: right;\">\n",
       "      <th></th>\n",
       "      <th>0</th>\n",
       "      <th>1</th>\n",
       "    </tr>\n",
       "  </thead>\n",
       "  <tbody>\n",
       "    <tr>\n",
       "      <th>15</th>\n",
       "      <td>mo_pmt</td>\n",
       "      <td>[0.0064762037201]</td>\n",
       "    </tr>\n",
       "    <tr>\n",
       "      <th>13</th>\n",
       "      <td>pt_repo</td>\n",
       "      <td>[0.003211462593]</td>\n",
       "    </tr>\n",
       "    <tr>\n",
       "      <th>4</th>\n",
       "      <td>call_c1500</td>\n",
       "      <td>[0.00245001869898]</td>\n",
       "    </tr>\n",
       "    <tr>\n",
       "      <th>3</th>\n",
       "      <td>call_c2000</td>\n",
       "      <td>[0.00233875281347]</td>\n",
       "    </tr>\n",
       "    <tr>\n",
       "      <th>11</th>\n",
       "      <td>auto_repo</td>\n",
       "      <td>[0.00157664849252]</td>\n",
       "    </tr>\n",
       "    <tr>\n",
       "      <th>19</th>\n",
       "      <td>ltv</td>\n",
       "      <td>[0.000916010883757]</td>\n",
       "    </tr>\n",
       "    <tr>\n",
       "      <th>0</th>\n",
       "      <td>Intercept</td>\n",
       "      <td>[0.000602992610607]</td>\n",
       "    </tr>\n",
       "    <tr>\n",
       "      <th>1</th>\n",
       "      <td>brand_up</td>\n",
       "      <td>[0.00049006030394]</td>\n",
       "    </tr>\n",
       "    <tr>\n",
       "      <th>26</th>\n",
       "      <td>gross_profit</td>\n",
       "      <td>[0.000332465155133]</td>\n",
       "    </tr>\n",
       "    <tr>\n",
       "      <th>23</th>\n",
       "      <td>vdc</td>\n",
       "      <td>[0.000306191106334]</td>\n",
       "    </tr>\n",
       "    <tr>\n",
       "      <th>21</th>\n",
       "      <td>def_down</td>\n",
       "      <td>[0.000279277575278]</td>\n",
       "    </tr>\n",
       "    <tr>\n",
       "      <th>24</th>\n",
       "      <td>trade_roll</td>\n",
       "      <td>[0.000191155091792]</td>\n",
       "    </tr>\n",
       "    <tr>\n",
       "      <th>14</th>\n",
       "      <td>pt_trade</td>\n",
       "      <td>[0.000104148059721]</td>\n",
       "    </tr>\n",
       "    <tr>\n",
       "      <th>25</th>\n",
       "      <td>pack</td>\n",
       "      <td>[3.71886728609e-05]</td>\n",
       "    </tr>\n",
       "    <tr>\n",
       "      <th>22</th>\n",
       "      <td>acv</td>\n",
       "      <td>[-2.05574474881e-06]</td>\n",
       "    </tr>\n",
       "    <tr>\n",
       "      <th>18</th>\n",
       "      <td>annual_inc</td>\n",
       "      <td>[-3.95712149392e-06]</td>\n",
       "    </tr>\n",
       "    <tr>\n",
       "      <th>16</th>\n",
       "      <td>amt_fin</td>\n",
       "      <td>[-0.00018889533307]</td>\n",
       "    </tr>\n",
       "    <tr>\n",
       "      <th>20</th>\n",
       "      <td>down</td>\n",
       "      <td>[-0.000352683636536]</td>\n",
       "    </tr>\n",
       "    <tr>\n",
       "      <th>12</th>\n",
       "      <td>pt_simul</td>\n",
       "      <td>[-0.000394244128412]</td>\n",
       "    </tr>\n",
       "    <tr>\n",
       "      <th>10</th>\n",
       "      <td>auto_late</td>\n",
       "      <td>[-0.000489176261353]</td>\n",
       "    </tr>\n",
       "    <tr>\n",
       "      <th>5</th>\n",
       "      <td>call_green</td>\n",
       "      <td>[-0.000631383836043]</td>\n",
       "    </tr>\n",
       "    <tr>\n",
       "      <th>2</th>\n",
       "      <td>has_poi</td>\n",
       "      <td>[-0.000799833854942]</td>\n",
       "    </tr>\n",
       "    <tr>\n",
       "      <th>6</th>\n",
       "      <td>call_blue</td>\n",
       "      <td>[-0.00117970265717]</td>\n",
       "    </tr>\n",
       "    <tr>\n",
       "      <th>9</th>\n",
       "      <td>auto_pay</td>\n",
       "      <td>[-0.00128209407351]</td>\n",
       "    </tr>\n",
       "    <tr>\n",
       "      <th>8</th>\n",
       "      <td>call_high</td>\n",
       "      <td>[-0.0016487461856]</td>\n",
       "    </tr>\n",
       "    <tr>\n",
       "      <th>7</th>\n",
       "      <td>call_silver</td>\n",
       "      <td>[-0.00229424540438]</td>\n",
       "    </tr>\n",
       "    <tr>\n",
       "      <th>27</th>\n",
       "      <td>credit_score</td>\n",
       "      <td>[-0.00380695074751]</td>\n",
       "    </tr>\n",
       "    <tr>\n",
       "      <th>17</th>\n",
       "      <td>emp_length</td>\n",
       "      <td>[-0.0240491420086]</td>\n",
       "    </tr>\n",
       "  </tbody>\n",
       "</table>\n",
       "</div>"
      ],
      "text/plain": [
       "               0                     1\n",
       "15        mo_pmt     [0.0064762037201]\n",
       "13       pt_repo      [0.003211462593]\n",
       "4     call_c1500    [0.00245001869898]\n",
       "3     call_c2000    [0.00233875281347]\n",
       "11     auto_repo    [0.00157664849252]\n",
       "19           ltv   [0.000916010883757]\n",
       "0      Intercept   [0.000602992610607]\n",
       "1       brand_up    [0.00049006030394]\n",
       "26  gross_profit   [0.000332465155133]\n",
       "23           vdc   [0.000306191106334]\n",
       "21      def_down   [0.000279277575278]\n",
       "24    trade_roll   [0.000191155091792]\n",
       "14      pt_trade   [0.000104148059721]\n",
       "25          pack   [3.71886728609e-05]\n",
       "22           acv  [-2.05574474881e-06]\n",
       "18    annual_inc  [-3.95712149392e-06]\n",
       "16       amt_fin   [-0.00018889533307]\n",
       "20          down  [-0.000352683636536]\n",
       "12      pt_simul  [-0.000394244128412]\n",
       "10     auto_late  [-0.000489176261353]\n",
       "5     call_green  [-0.000631383836043]\n",
       "2        has_poi  [-0.000799833854942]\n",
       "6      call_blue   [-0.00117970265717]\n",
       "9       auto_pay   [-0.00128209407351]\n",
       "8      call_high    [-0.0016487461856]\n",
       "7    call_silver   [-0.00229424540438]\n",
       "27  credit_score   [-0.00380695074751]\n",
       "17    emp_length    [-0.0240491420086]"
      ]
     },
     "execution_count": 14,
     "metadata": {},
     "output_type": "execute_result"
    }
   ],
   "source": [
    "#examine the coefficients\n",
    "pd.DataFrame(zip(X.columns, np.transpose(model.coef_))).sort_values(1,ascending=False)"
   ]
  },
  {
   "cell_type": "code",
   "execution_count": 10,
   "metadata": {
    "collapsed": false
   },
   "outputs": [
    {
     "name": "stdout",
     "output_type": "stream",
     "text": [
      "[ 0.  0.  0. ...,  0.  0.  0.]\n"
     ]
    }
   ],
   "source": [
    "# predict class labels for the test set\n",
    "predicted = model.predict(X)\n",
    "print predicted"
   ]
  },
  {
   "cell_type": "code",
   "execution_count": 11,
   "metadata": {
    "collapsed": false
   },
   "outputs": [
    {
     "name": "stdout",
     "output_type": "stream",
     "text": [
      "[[ 0.83552313  0.16447687]\n",
      " [ 0.66665161  0.33334839]\n",
      " [ 0.69551661  0.30448339]\n",
      " ..., \n",
      " [ 0.78154341  0.21845659]\n",
      " [ 0.85727757  0.14272243]\n",
      " [ 0.88041441  0.11958559]]\n"
     ]
    }
   ],
   "source": [
    "# generate class probabilities\n",
    "probs = model.predict_proba(X)\n",
    "print probs"
   ]
  },
  {
   "cell_type": "code",
   "execution_count": 12,
   "metadata": {
    "collapsed": false
   },
   "outputs": [
    {
     "name": "stdout",
     "output_type": "stream",
     "text": [
      "[[2979   82]\n",
      " [1085  116]]\n",
      "             precision    recall  f1-score   support\n",
      "\n",
      "        0.0       0.73      0.97      0.84      3061\n",
      "        1.0       0.59      0.10      0.17      1201\n",
      "\n",
      "avg / total       0.69      0.73      0.65      4262\n",
      "\n"
     ]
    }
   ],
   "source": [
    "print metrics.confusion_matrix(y, predicted)\n",
    "print metrics.classification_report(y, predicted)"
   ]
  }
 ],
 "metadata": {
  "anaconda-cloud": {},
  "kernelspec": {
   "display_name": "Python [default]",
   "language": "python",
   "name": "python2"
  },
  "language_info": {
   "codemirror_mode": {
    "name": "ipython",
    "version": 2
   },
   "file_extension": ".py",
   "mimetype": "text/x-python",
   "name": "python",
   "nbconvert_exporter": "python",
   "pygments_lexer": "ipython2",
   "version": "2.7.12"
  }
 },
 "nbformat": 4,
 "nbformat_minor": 1
}
